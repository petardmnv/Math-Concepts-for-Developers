{
 "cells": [
  {
   "cell_type": "code",
   "execution_count": 1,
   "metadata": {},
   "outputs": [],
   "source": [
    "%matplotlib inline"
   ]
  },
  {
   "cell_type": "code",
   "execution_count": 2,
   "metadata": {},
   "outputs": [],
   "source": [
    "import numpy as np\n",
    "import pandas as pd\n",
    "import matplotlib.pyplot as plt\n",
    "from sklearn import datasets\n",
    "from sklearn.linear_model import LogisticRegression\n",
    "from sklearn.model_selection import train_test_split\n",
    "from sklearn.metrics import classification_report\n",
    "from sklearn.metrics import confusion_matrix"
   ]
  },
  {
   "cell_type": "markdown",
   "metadata": {},
   "source": [
    "# Classification - Класификация"
   ]
  },
  {
   "cell_type": "markdown",
   "metadata": {},
   "source": [
    "### Какво е машинно обучение\n",
    "\n",
    "Машинното обучение се занимава със създаването на алгоритми, които се учат от данни, така че програмите и системите да могат да изпълняват задачи без изричен набор от програмирани инструкции - например технологията за разпознаване на изображения често разчита на алгоритми за машинно обучение, които анализират огромен брой снимки."
   ]
  },
  {
   "cell_type": "markdown",
   "metadata": {},
   "source": [
    "### Контролирано и неконтролирано обучение\n",
    "Има три различни стила на обучение в алгоритмите за машинно обучение:\n",
    "1. Контролирано\n",
    "2. Неконтролирано\n",
    "3. Полу-контролирано обучение"
   ]
  },
  {
   "cell_type": "markdown",
   "metadata": {},
   "source": [
    "Целта на **Контролираното обучение** е да приспособим модел, който свързва отговора(зависими променливи) с предикторите(независими променливи), с цел точно предсказване на отговора за бъдещи наблюдения или по-добро разбиране на връзката между отговора и предикторите. Много класически статистически методи за обучение като линейна регресия и логистична регресия, също така и по-модерни подходи като GAM, ускоряване и поддържане на машини за регресия на вектори, работят в контролираната област на обучение."
   ]
  },
  {
   "cell_type": "markdown",
   "metadata": {},
   "source": [
    "**Неконтролираното обучение** е малко по-предизвикателната задача, при която за всяко наблюдение i = 1, ..., n, ние наблюдаваме вектор на измервания xi, но няма свързан отговор yi. При неконтролираното обучение не може  да се побере модел на линейна регресия, тъй като няма променлива за отговор, която да се предскаже. В тази обстановка в някакъв смисъл работим на сляпо; ситуацията се нарича без надзор, тъй като ни липсва променлива за отговор, която може да контролира нашия анализ."
   ]
  },
  {
   "cell_type": "markdown",
   "metadata": {},
   "source": [
    "### Регресия\n",
    "\n",
    "#### 1. Дефиниция:\n",
    "    Регресията е статистически метод, използван във финансите, инвестициите и други дисциплини, който се опитва да определи силата и характера на връзката между една зависима променлива (обикновено обозначена с Y) и поредица от други променливи (известни като независими променливи X)."
   ]
  },
  {
   "cell_type": "markdown",
   "metadata": {},
   "source": [
    "#### 2. Видове регресии:\n",
    "    1. Ordinary Least Squares Regression (OLSR)\n",
    "    2. Linear Regression\n",
    "    3. Logistic Regression\n",
    "    4. Stepwise Regression\n",
    "    5. Multivariate Adaptive Regression Splines (MARS)\n",
    "    6. Locally Estimated Scatterplot Smoothing (LOESS) "
   ]
  },
  {
   "cell_type": "markdown",
   "metadata": {},
   "source": [
    "### Класифицация\n",
    "#### 1. Дефиниция:\n",
    "    Техника, при която категоризираме данните в даден брой класове. Основната цел на проблема с класификацията е да се идентифицира категорията / класът, към който ще попадат нови данни.\n",
    "\n",
    "\n",
    "#### 2. Кога се използва: \n",
    "\n",
    "    Променливите за отговор могат да се характеризират като количествени или качествени (също известни като категориини). Количествените променливи приемат числови стойности (доходи, височина на хората, цена на стока и др.). За разлика от количествените, качествените променливи приемат стойности в един от K различни класове или категории. Примерите за качествени променливи включват пола на човек (мъж или жена), марката на закупения продукт (марка A, B или C) и др. Когато имаме проблеми от количествен тип, считаме че те са свързани с проблеми с регресията, докато тези, включващи качествен отговор, често се отнасят за проблеми с класификацията. В много ситуации променливата за отговор е качествена. Например полът на човек е качествен, като приема стойности мъж или жена(дано да не ме съдят \"европейците\" ;)). В случай, че имаме проблем свързан със машинно обучение, в който променливата за отговор е качествена ще използваме класификация, за да категоризираме данните, които имаме и да можем да определим към кой клас ще попаднат нови данни, ако има такива.\n",
    "    \n",
    "    Ще демонстрирам какво означава отговорът да е от тип количествен или качествен като използвам измислен от мен мини дата сет\n",
    "    "
   ]
  },
  {
   "cell_type": "code",
   "execution_count": 3,
   "metadata": {},
   "outputs": [
    {
     "data": {
      "image/png": "[encoded data removed]",
      "text/plain": [
       "<Figure size 432x288 with 1 Axes>"
      ]
     },
     "metadata": {
      "needs_background": "light"
     },
     "output_type": "display_data"
    }
   ],
   "source": [
    "avg_boys_heights_in_uk = [0.48, 0.63, 0.71, 0.77, 0.86, 0.92, 1.0, 1.08, 1.14, 1.21, 1.27, 1.34, 1.44, 1.52, 1.65, 1.74, 1.81, 1.84, 1.85, 1.85]\n",
    "avg_boys_heights_in_bg = [0.45, 0.61, 0.69, 0.73, 0.80, 0.88, 0.95, 1.03, 1.10, 1.17, 1.24, 1.31, 1.39, 1.47, 1.58, 1.69, 1.74, 1.76, 1.76, 1.76]\n",
    "avg_boys_heights_in_nk = [0.40, 0.49, 0.56, 0.64, 0.72, 0.81, 0.89, 0.97, 1.04, 1.1, 1.17, 1.23, 1.31, 1.40, 1.51, 1.62, 1.69, 1.7, 1.71, 1.71]\n",
    "avg_boys_heights_in_us = [0.50, 0.61, 0.69, 0.75, 0.84, 0.95, 1.02, 1.11, 1.18, 1.26, 1.35, 1.43, 1.54, 1.66, 1.75, 1.82, 1.85, 1.87, 1.87, 1.87]\n",
    "plt.scatter([i for i in range(1, len(avg_boys_heights_in_uk) + 1)], avg_boys_heights_in_uk, color='r')\n",
    "plt.scatter([i for i in range(1, len(avg_boys_heights_in_bg) + 1)], avg_boys_heights_in_bg, color='r')\n",
    "plt.scatter([i for i in range(1, len(avg_boys_heights_in_nk) + 1)], avg_boys_heights_in_nk, color='r')\n",
    "plt.scatter([i for i in range(1, len(avg_boys_heights_in_us) + 1)], avg_boys_heights_in_us, color='r')\n",
    "\n",
    "plt.title(\"Quantitative parameters\")\n",
    "plt.xticks(range(1, 21, 2))\n",
    "#plt.yticks()\n",
    "plt.ylabel(\"Boys Height in [m]\")\n",
    "plt.xlabel(\"Boys age\")\n",
    "plt.show()"
   ]
  },
  {
   "cell_type": "markdown",
   "metadata": {},
   "source": [
    "В този случай пазглеждаме **измислени** от мен данни за височината на момчета от 1 до 20 години в различни страни. В този случай търсената стойност (отговора) е количествен, а именно височината в метри. Следователно ако си пиша с момче на 14 години и не съм го виждал наживо, то от данните, с които разполагам мога да предположа, че височината му ще варира от 1.35 до 1.7. За да направя това предположение, не ми е нужна класификация, а регресия или по точно регресионни алгоритми."
   ]
  },
  {
   "cell_type": "code",
   "execution_count": 4,
   "metadata": {},
   "outputs": [
    {
     "data": {
      "image/png": "[encoded data removed]",
      "text/plain": [
       "<Figure size 432x288 with 1 Axes>"
      ]
     },
     "metadata": {
      "needs_background": "light"
     },
     "output_type": "display_data"
    }
   ],
   "source": [
    "passed_exam_hours_studied = np.array((np.random.rand(1, 25) + 0.9) * 4.845)\n",
    "passed_exam_hours_slept = np.array((np.random.rand(1, 25) + 1.3) * 4.45)\n",
    "failed_exam_hours_studied = np.array((np.random.rand(1, 25) + 0.2) * 4.845)\n",
    "failed_exam_hours_slept = np.array((np.random.rand(1, 25) + 0.4) * 4.45)\n",
    "plt.scatter(passed_exam_hours_slept, passed_exam_hours_studied, color = 'r', label='Passed') \n",
    "plt.scatter(failed_exam_hours_slept, failed_exam_hours_studied, color = 'b', label='Failed') \n",
    "\n",
    "plt.ylabel(\"Hours studied\")\n",
    "plt.xlabel(\"Hours slept\")\n",
    "plt.legend()\n",
    "plt.title(\"Qualitative parameters\")\n",
    "plt.show()"
   ]
  },
  {
   "cell_type": "markdown",
   "metadata": {},
   "source": [
    "В този случай пазглеждаме **измислени** от мен данни за ученици като правата по OX показва колко часа са спали учениците преди контролно, а правата по OY показва колко часа са учили за контролното. Точките в червено са данните на учениците, които са минали контролното, а тези в синьо са данните на учениците, който са се провалили на контролното. Да кажем, че след една година, следващият випуск прави същото контролно. Ако знаем колко време са отделили новите ученици, то на базата на старите данни можем да предположим кои ще минат изпита и кои не. Следователно, ако Иванчо не е учил за теста и е спал нормално, то можем да кажем, че той ще бъде скъсан, докато Иванка, която е учила четири часа за изпита и е спала около седем часа ще вземе изпита. За да направя това предположение ми е нужна класификация, тъй като предположението (отговорът) ми е качествен (минал/скъсан). \n",
    "\n",
    "По какъв начин може да се формира класификацията, обаче? Втора точка отговаря на въпроса. Има много методи за класификация, ето някои от тях."
   ]
  },
  {
   "cell_type": "markdown",
   "metadata": {},
   "source": [
    "#### 2. Типове класификационни методи:\n",
    "    1. Logistic Regression\n",
    "    2. Naïve Bayes\n",
    "    3. Stochastic Gradient Descent\n",
    "    4. K-Nearest Neighbours\n",
    "    5. Decision Tree\n",
    "    6. Random Forest\n",
    "    7. Support Vector Machine "
   ]
  },
  {
   "cell_type": "markdown",
   "metadata": {},
   "source": [
    "#### 3. Логистична регресия(формули и реализация):\n",
    "Първо нека да започнем с определението за логистична регресия - Логистичната регресия е алгоритъм, който се използва за изчисляване на вероятността от възникване на няколко събития(обикновенно две(binary class...), но може и повече от две(multy-class)) и за справяне с въпросите на класификацията. Например прогнозиране дали входящият имейл е спам или не, или прогнозиране дали транзакцията с кредитна карта е измамна или не. В медицински контекст може да се използва логистична регресия, за да се предскаже дали туморът е доброкачествен или злокачествен.\n",
    "​\n",
    "    \n"
   ]
  },
  {
   "cell_type": "markdown",
   "metadata": {},
   "source": [
    "**Сигмоидна функция(Sigmoid function)**\n",
    "\n",
    "След като прочетем определението може да предположим, че по зададени променливи $X$ трябва да определим дали обекта принадлежи на клас 1 или клас 2. Следователно ще ни трябва някаква функция която да осъществява връзката междъ $X$ и $Y$."
   ]
  },
  {
   "cell_type": "markdown",
   "metadata": {},
   "source": [
    "Да кажем, че това е функцията( $ z = wx + b $ ), която връща стойности в интервала  \n",
    "    $z \\in [-\\infty, +\\infty]$. "
   ]
  },
  {
   "cell_type": "markdown",
   "metadata": {},
   "source": [
    "Проблемът е, че не искаме да имаме стойности извън интервала  $ [0, 1] $, защото имаме два класа - 0 за клас1 и 1 за клас 2. За да решим този проблем, на помощ идва сигмоидната функция, която връща стойности в интервала $ [0, 1] $ независимо какво ще и подадем като аргумент.\n",
    "\n",
    "Следователно можем да подадем $ z $ като такъв аргумент."
   ]
  },
  {
   "cell_type": "markdown",
   "metadata": {},
   "source": [
    "$$ S(z) = \\frac{1}{1 + e^{-z}} $$\n",
    "\n",
    "където:\n",
    "1. $ z = xw + b $\n",
    "\n",
    "2. w - тежест на независимите променливи $X$\n",
    "\n",
    "3. b - наклон на функцията\n"
   ]
  },
  {
   "cell_type": "markdown",
   "metadata": {},
   "source": [
    "От тук нататък аз ще използвам формулата: $$ z = \\theta^T \\mathbf{x} $$\n",
    "\n",
    "където\n",
    "\n",
    "1. $ \\theta $ е матрица от тежести w\n",
    "\n",
    "2. $ \\mathbf{x} $ е матрица от независимите променливи на уравнението\n",
    "3. Размерът на двете матрици е едни и същ"
   ]
  },
  {
   "cell_type": "markdown",
   "metadata": {},
   "source": [
    "Тъй като ги умножавам си позволявам да транспонирам матрицата от тежести.\n",
    "\n",
    "##### Обобщение до тук:\n",
    "От определението за регресия, накратко, можем да разберем, че ни трябва да намерим връзката между $ x $ и $y$. Следователно в нашия случай ще се опитаме да намерим възможно най-близкото решение на уравнението:\n",
    "$$ y = \\frac{1}{1 + e^{\\theta^T \\mathbf{x}}} $$"
   ]
  },
  {
   "cell_type": "markdown",
   "metadata": {},
   "source": [
    "Тоест ако $y_i = 1$ (означаваме клас1 с $y = 0$ и клас2 с $y = 1$), трябва да получим възможно най-близкия резултат до 1, когато подадем на уравнението $ y_i = \\frac{1}{1 + e^{\\theta^T \\mathbf{x_i}}} $ съответните $ \\theta^T \\mathbf{x_i} $ за $ y_i $.\n",
    "    "
   ]
  },
  {
   "cell_type": "markdown",
   "metadata": {},
   "source": [
    "#### Заключение\n",
    "Трябва да намерим параметрите - $ \\theta $ (стойностите на тежестите на всеки един от елементите на $ \\mathbf{x} $) на модела, така че вероятността да се получи резултат, такъв какъвто имаме като информация от датасета, да е най-голяма. В този случай $y\\space \\epsilon \\space[0, 1]$ като $ y = \\frac{1}{1 + e^{\\theta^T \\mathbf{x}}} $.\n",
    "\n",
    "\n",
    "Този процес ще наречем трениране на модела."
   ]
  },
  {
   "cell_type": "markdown",
   "metadata": {},
   "source": [
    "#### Как да намерим стойностите на $ \\theta $\n",
    "Проблем: Как да намеря параметрите - каква формула да ползвам.\n",
    "Решение: MLE - Maximum Likelihood Estimation"
   ]
  },
  {
   "cell_type": "markdown",
   "metadata": {},
   "source": [
    "##### Какво представлява MLE - Maximum Likelihood Estimation\n",
    "Досега не споменах какво точно е $ y $. Да кажем, че имаме N на брой данни от дейтабейса. За всяка една променлива трябва да кажем към кой клас се отнася. Следователно си създаваме матрица със 0 и 1-ци, които съответно отговарят на това дали променливата i е от първия клас(0) или от втория клас(1). Пример: Ако отново разгледаме данните, които си измислих - Данни за ученици като правата по OX показва колко часа са спали учениците преди контролно, а правата по OY показва колко часа са учили за контролното. То трябва да направя матрица със размер - броя на учениците, в която да пише за всеки ученик дали е минал теста или е скъсан т.е. на всеки ред ще има 0 или 1."
   ]
  },
  {
   "cell_type": "markdown",
   "metadata": {},
   "source": [
    "В заключението по-горе споменах за вероятност. Време е да запишем тази вероятност като формула:\n",
    "$$ P(Y\\mid X;\\theta) $$\n",
    "където\n",
    "\n",
    "1. Y - Матрицата от класифицирани променливи\n",
    "\n",
    "2. X - Матрицата с променливите\n",
    "\n",
    "3. $ \\theta $ - Тежестите на променливите\n"
   ]
  },
  {
   "cell_type": "markdown",
   "metadata": {},
   "source": [
    "MLE - Maximum Likelihood Estimation представлява максималната вероятност, при намиране на параметрите $ \\theta $ и  извършване на сигмоидната функция върху зададения модел, да се получат резултати, такива каквито са и резултатите в Y. \n",
    "\n",
    "Формула:\n",
    "\n",
    "$$ \\hat{\\theta}^{MLE} = arg\\space max\\space \\prod^n_{i = 0}P(y_i\\mid \\mathbf{x_i};\\theta) $$"
   ]
  },
  {
   "cell_type": "markdown",
   "metadata": {},
   "source": [
    "Търсим maksimalnoto proizwedenie на всяка вероятност, за която ще се намери $y_i$ по подадени $ \\mathbf{x_i} $\n",
    "\n",
    "Вероятността $ P(y_i\\mid \\mathbf{x_i};\\theta) $ можем да разгледаме като функцията - $ f(\\theta_0 + \\theta_1 x_{i_1} + \\theta_2 x_{i_2} + \\cdots + \\theta_n x_{i_n})$ като стигаме до $ x_{i_n}$ взависимост от това, колко променливи имаме. Накратко функцията може да се запише като $ f(\\theta^T \\mathbf{x_i}) $."
   ]
  },
  {
   "cell_type": "markdown",
   "metadata": {},
   "source": [
    "Проблем: Не искаме $ f(\\theta^T \\mathbf{x_i})\\space \\epsilon \\space[-\\infty, +\\infty]$. Трябва ни трансформация на  стойностите от $\\space \\epsilon \\space[-\\infty, +\\infty]$ в стойностите $[0, 1]$."
   ]
  },
  {
   "cell_type": "markdown",
   "metadata": {},
   "source": [
    "Решение: Използваме сигмоидната функция. $ S(z):\\space[-\\infty, +\\infty] \\rightarrow [0, 1]$ където $ z = f(\\theta^T \\mathbf{x_i}) $."
   ]
  },
  {
   "cell_type": "markdown",
   "metadata": {},
   "source": [
    "Слведователно  $ P(y_i\\mid \\mathbf{x_i};\\theta) = S(\\theta^T \\mathbf{x_i})$"
   ]
  },
  {
   "cell_type": "markdown",
   "metadata": {},
   "source": [
    "Нека разделим MLE на класове т.е.:\n",
    "\n",
    "$$ \\hat{\\theta}^{MLE} = arg\\space max\\space \\prod^n_{i = 0}P(y_i\\mid \\mathbf{x_i};\\theta) = max\\space \\prod^n_{i = 0}P(y_i = 1\\mid \\mathbf{x_i};\\theta) \\prod^n_{i = 0}P(y_i = 0\\mid \\mathbf{x_i};\\theta)  $$"
   ]
  },
  {
   "cell_type": "markdown",
   "metadata": {},
   "source": [
    "$$ \\prod^n_{i = 0}P(y_i = 0\\mid \\mathbf{x_i};\\theta) $$ е произведението на вероятностите на групата за обучение, която принадлежи към клас1. "
   ]
  },
  {
   "cell_type": "markdown",
   "metadata": {},
   "source": [
    "$$ \\prod^n_{i = 0}P(y_i = 1\\mid \\mathbf{x_i};\\theta) $$ е произведението на вероятностите на групата за обучение, която принадлежи към клас2. "
   ]
  },
  {
   "cell_type": "markdown",
   "metadata": {},
   "source": [
    "От Вероятност знаем, че  $ \\overline p(x) = 1 - p(x) $"
   ]
  },
  {
   "cell_type": "markdown",
   "metadata": {},
   "source": [
    "Следователно $$ \\prod^n_{i = 0}P(y_i = 0\\mid \\mathbf{x_i};\\theta) = \\prod^n_{i = 0} 1- P(y_i = 1\\mid \\mathbf{x_i};\\theta)$$"
   ]
  },
  {
   "cell_type": "markdown",
   "metadata": {},
   "source": [
    "И знаем, че:\n",
    "$$  P(y_i = 1\\mid \\mathbf{x_i};\\theta) = S(\\theta^T \\mathbf{x_i})$$"
   ]
  },
  {
   "cell_type": "markdown",
   "metadata": {},
   "source": [
    "Заместваме в MLE:\n",
    "$$ L (\\theta) = \\hat{\\theta}^{MLE}= max\\space \\prod^n_{i = 0}S(\\theta^T \\mathbf{x_i}) \\prod^n_{i = 0}(\n",
    "1 - S(\\theta^T \\mathbf{x_i}))$$"
   ]
  },
  {
   "cell_type": "markdown",
   "metadata": {},
   "source": [
    "Проблемът тук е, че при вероятността при единия винаги ще е около 0, защото един обект може да бъде само в един от класовете. Следователно можем да изведем формулата така:\n",
    "\n",
    "$$ L(\\theta) = \\hat{\\theta}^{MLE}= max\\space \\prod^n_{i = 0}S(\\theta^T \\mathbf{x_i})^{y_i} * (\n",
    "1 - S(\\theta^T \\mathbf{x_i}))^{(1 - y_i)} $$"
   ]
  },
  {
   "cell_type": "markdown",
   "metadata": {},
   "source": [
    "Така, ако $ y_i = 1 $ изразът $ (1 - S(\\theta^T \\mathbf{x_i}))^{(1 - y_i)}$ става 1 т.е. не променя нищо."
   ]
  },
  {
   "cell_type": "markdown",
   "metadata": {},
   "source": [
    "И по същата логика, ако $ y_i = 0 $ изразът $ y_i = 0 $ става 1 т.е. не променя нищо."
   ]
  },
  {
   "cell_type": "markdown",
   "metadata": {},
   "source": [
    "Вместо умножение ще използваме събиране, защото е по бърза операция, но за тази цел ще се наложи да трансформираме израза малко:\n",
    "$$ l(\\theta) = \\space \\log(\\prod^n_{i = 0} S(\\theta^T \\mathbf{x_i})^{y_i} + (1 - S(\\theta^T \\mathbf{x_i}))^{(1 - y_i)}) $$"
   ]
  },
  {
   "cell_type": "markdown",
   "metadata": {},
   "source": [
    "Тъй като логаритмите имат свойството $ \\log a^b = b\\log a $. И още едно свойство  $ \\log a+ \\log b = \\log ab $"
   ]
  },
  {
   "cell_type": "markdown",
   "metadata": {},
   "source": [
    "Получаваме израза:\n",
    "$$ l(\\theta) = \\space \\sum^n_{i = 0}\\log( S(\\theta^T \\mathbf{x_i})^{y_i}) + \\log(1 - S(\\theta^T \\mathbf{x_i}))^{(1 - y_i)}) $$"
   ]
  },
  {
   "cell_type": "markdown",
   "metadata": {},
   "source": [
    "$$ l(\\theta) =max \\space \\sum^n_{i = 0}y_i\\log( S(\\theta^T \\mathbf{x_i})) + (1 - y_i)\\log(1 - S(\\theta^T \\mathbf{x_i})) $$"
   ]
  },
  {
   "cell_type": "markdown",
   "metadata": {},
   "source": [
    "Отново ако $ y_i = 0 $ изразът $y_i\\log( S(\\theta^T \\mathbf{x_i}))$ се унищожава. Същото важи и за $ y_i = 1 $."
   ]
  },
  {
   "cell_type": "markdown",
   "metadata": {},
   "source": [
    "Функцията, която изведохме се нарича MLL - Maximum Log Likelihood"
   ]
  },
  {
   "cell_type": "markdown",
   "metadata": {},
   "source": [
    "Тъй като ще използваме Gradient Descent ще ми трябва да наперя глобалния минимум, а не максимум. Можем да обърнем MLL в NLL и така графиката ще се \"обърне\". "
   ]
  },
  {
   "cell_type": "markdown",
   "metadata": {},
   "source": [
    "NLL - Negative Log Likelihood"
   ]
  },
  {
   "cell_type": "markdown",
   "metadata": {},
   "source": [
    "Като $NLL(\\theta) = -l(\\theta)$:\n",
    "$$ NLL(\\theta) = min\\space  - \\sum^n_{i = 0}y_i\\log( S(\\theta^T \\mathbf{x_i})) + (1 - y_i)\\log(1 - S(\\theta^T \\mathbf{x_i})) $$"
   ]
  },
  {
   "cell_type": "markdown",
   "metadata": {},
   "source": [
    "Тъй като използваме за оптимизиращ алгоритъм - Gradient Descent, който да намери локален минимум(в нашия случай глобален минимум) на функцията NLL. В него загубите на NLL ще са най-малки т.е. прецизността на функцията ще е най-голяма."
   ]
  },
  {
   "cell_type": "markdown",
   "metadata": {},
   "source": [
    "#### Gradient Descent\n",
    "Целта на оптимизиращия алгоритъм е да се променят стойностите на $ \\theta $, че грешката, която NLL ще \"остави\" селд себе си да бъде възможно най-малка."
   ]
  },
  {
   "cell_type": "markdown",
   "metadata": {},
   "source": [
    "##### Как да намерим стойностите на $\\theta$\n",
    "Първо ще запишем случайни числа в $\\theta$. Използвайки Gradient Descent числата ще се променят, така че загубите на NLL ще станат минимални."
   ]
  },
  {
   "cell_type": "markdown",
   "metadata": {},
   "source": [
    "Алгоритъмът ще изглежда по този начин:\n",
    "\n",
    "                                                For m in range(M):\n",
    "$$ \\theta = \\theta - \\alpha\\frac{\\delta NLL}{\\delta \\theta^T}$$"
   ]
  },
  {
   "cell_type": "markdown",
   "metadata": {},
   "source": [
    "като $\\alpha$ e скорост на обучение. Обикновенно $\\alpha = 0.01 $ или $\\alpha = 0.05 $"
   ]
  },
  {
   "cell_type": "markdown",
   "metadata": {},
   "source": [
    "Ще ни трябва да намерим производната на сигмоидната функция $ S(z) = \\frac{1}{1 + e^{-z}} $"
   ]
  },
  {
   "cell_type": "markdown",
   "metadata": {},
   "source": [
    "$$ \\frac{d(S(z))}{dx} = \\frac{d(\\frac{1}{1 + e^{-z}})}{dx} = \\frac{d(1 + e^{-z})^{-1}}{dx} $$"
   ]
  },
  {
   "cell_type": "markdown",
   "metadata": {},
   "source": [
    "Ще напиша формули, които ще ни помогнат малко по-надолу в обясненията.\n",
    "\n",
    "Полимиалното правило:\n",
    "$$ \\frac{d(f(z)^{a})}{dx} = a f(z)^{a - 1}\\frac{d(f(z))}{dx} $$"
   ]
  },
  {
   "cell_type": "markdown",
   "metadata": {},
   "source": [
    "Експонентното правило:\n",
    "$$ \\frac{dе^{z}}{dx} = e^z $$"
   ]
  },
  {
   "cell_type": "markdown",
   "metadata": {},
   "source": [
    "Логаритмичното правило:\n",
    "$$ \\frac{d\\log(z)}{dx} = \\frac{1}{z} $$"
   ]
  },
  {
   "cell_type": "markdown",
   "metadata": {},
   "source": [
    "Chain Rule(по-добре да не го превеждам):\n",
    "\n",
    "$$ \\frac{\\delta A}{\\delta x} = \\frac{\\delta A}{\\delta y}* \\frac{\\delta y}{\\delta x} $$"
   ]
  },
  {
   "cell_type": "markdown",
   "metadata": {},
   "source": [
    "Да се върнем на производната на сигмоидната функция $ S(z) = \\frac{1}{1 + e^{-z}} $"
   ]
  },
  {
   "cell_type": "markdown",
   "metadata": {},
   "source": [
    "$$ \\frac{d(1 + e^{-z})^{-1}}{dx} = (-1)(1 + e^{-z})^{-2}* \\frac{d(1 + e^{-z})}{dx} $$"
   ]
  },
  {
   "cell_type": "markdown",
   "metadata": {},
   "source": [
    "$$ (-1)(1 + e^{-z})^{-2}* \\frac{d(1 + e^{-z})}{dx} = (-1)(1 + e^{-z})^{-2}(-e^{-z}) $$"
   ]
  },
  {
   "cell_type": "markdown",
   "metadata": {},
   "source": [
    "$$ (-1)(1 + e^{-z})^{-2}(-e^{-z}) = \\frac{e^{-z}}{(1 + e^{-z})^2} $$"
   ]
  },
  {
   "cell_type": "markdown",
   "metadata": {},
   "source": [
    "$$ \\frac{e^{-z}}{(1 + e^{-z})^2} = \\frac{-1 + 1 + e^{-z}}{1 + e^{-z}} * \\frac{1}{1 + e^{-z}} $$"
   ]
  },
  {
   "cell_type": "markdown",
   "metadata": {},
   "source": [
    "$$ \\frac{-1 + 1 + e^{-z}}{1 + e^{-z}} * \\frac{1}{1 + e^{-z}} \\Leftrightarrow S(z)(1 - S(z)) $$"
   ]
  },
  {
   "cell_type": "markdown",
   "metadata": {},
   "source": [
    "Така изведохме формулата за първата произвопдна на сигмоидната функция:\n",
    "\n",
    "$$ \\frac{d(S(z))}{dx} = S(z)(1 - S(z)) $$"
   ]
  },
  {
   "cell_type": "markdown",
   "metadata": {},
   "source": [
    "Нека разапишем израза $ \\frac{\\delta NLL}{\\delta \\theta^T} $"
   ]
  },
  {
   "cell_type": "markdown",
   "metadata": {},
   "source": [
    "$$  \\frac{\\delta NLL}{\\delta \\theta^T} = -\\space \\sum^n_{i = 0}y_i * \\frac {\\log( S(\\theta^T \\mathbf{x_i}))}{\\delta( S(\\theta^T \\mathbf{x_i}))}* \\frac{\\delta( S(\\theta^T \\mathbf{x_i}))}{\\delta \\theta^T} + (1 - y_i) * \\frac{\\log(1 - S(\\theta^T \\mathbf{x_i}))}{\\delta(1 - S(\\theta^T \\mathbf{x_i}))}* \\frac{\\delta(1 - S(\\theta^T \\mathbf{x_i}))}{\\delta \\theta^T} $$"
   ]
  },
  {
   "cell_type": "markdown",
   "metadata": {},
   "source": [
    "Използвайки логаритмичното правило от по-доре:\n",
    "\n",
    "$$  \\frac{\\delta NLL}{\\delta \\theta^T} = -\\space \\sum^n_{i = 0}y_i * \\frac {1}{ S(\\theta^T \\mathbf{x_i})}* \\frac{\\delta( S(\\theta^T \\mathbf{x_i}))}{\\delta \\theta^T} + (1 - y_i) * \\frac{1}{(1 - S(\\theta^T \\mathbf{x_i}))}* \\frac{\\delta(1 - S(\\theta^T \\mathbf{x_i}))}{\\delta \\theta^T}  $$"
   ]
  },
  {
   "cell_type": "markdown",
   "metadata": {},
   "source": [
    "Използвайки Chain Rule:\n",
    "\n",
    "$$  \\frac{\\delta NLL}{\\delta \\theta^T} = -\\space \\sum^n_{i = 0}y_i * \\frac {1}{ S(\\theta^T \\mathbf{x_i})}* \\frac{\\delta( S(\\theta^T \\mathbf{x_i}))}{\\delta \\theta^T x_i} * \\frac{\\delta \\theta^T x_i}{\\delta \\theta^T} + (1 - y_i) * \\frac{1}{(1 - S(\\theta^T \\mathbf{x_i}))}* \\frac{\\delta(1 - S(\\theta^T \\mathbf{x_i}))}{\\delta \\theta^T x_i} * \\frac{\\delta \\theta^T x_i}{\\delta \\theta^T}  $$"
   ]
  },
  {
   "cell_type": "markdown",
   "metadata": {},
   "source": [
    "Използвайки формулата за първата произвопдна на сигмоидната функция:\n",
    "\n",
    "$$  \\frac{\\delta NLL}{\\delta \\theta^T} = -\\space \\sum^n_{i = 0}y_i * \\frac {1}{ S(\\theta^T \\mathbf{x_i})}* S(\\theta^T \\mathbf{x_i}) * (1 - S(\\theta^T \\mathbf{x_i})) * x_i  + (1 - y_i) * (-1) * \\frac{1}{(1 - S(\\theta^T \\mathbf{x_i}))} * S(\\theta^T \\mathbf{x_i}) * (1 - S(\\theta^T \\mathbf{x_i})) * x_i $$"
   ]
  },
  {
   "cell_type": "markdown",
   "metadata": {},
   "source": [
    "Съкращаваме:\n",
    "\n",
    "$$  \\frac{\\delta NLL}{\\delta \\theta^T} = -\\space \\sum^n_{i = 0}y_i * (1 - S(\\theta^T \\mathbf{x_i})) * x_i  - (1 - y_i) * S(\\theta^T \\mathbf{x_i}) * x_i $$"
   ]
  },
  {
   "cell_type": "markdown",
   "metadata": {},
   "source": [
    "Разкриваме скобите, съкращаваме и влагаме минуса:\n",
    "\n",
    "$$  \\frac{\\delta NLL}{\\delta \\theta^T} = -\\space \\sum^n_{i = 0}(y_i - S(\\theta^T \\mathbf{x_i}))x_i $$"
   ]
  },
  {
   "cell_type": "markdown",
   "metadata": {},
   "source": [
    "Да се върнем към оптимизиращия метод:\n",
    "\n",
    "                                                For m in range(M):\n",
    "$$ \\theta = \\theta - \\alpha \\space \\sum^n_{i = 0}(S(\\theta^T \\mathbf{x_i}) - y_i)x_i $$"
   ]
  },
  {
   "cell_type": "markdown",
   "metadata": {},
   "source": [
    "Така след М на брой операции ще получим крайните стойности за $\\theta$"
   ]
  },
  {
   "cell_type": "markdown",
   "metadata": {},
   "source": [
    "Следователно, когато тестваме данните:"
   ]
  },
  {
   "cell_type": "markdown",
   "metadata": {},
   "source": [
    "Искаме да изчислим вероятността за $y$ да бъде от клас 1 т.е. $y = 1$"
   ]
  },
  {
   "cell_type": "markdown",
   "metadata": {},
   "source": [
    "$$ P(y = 1\\mid \\mathbf{x})  = \\frac{1}{1 + e^{-(\\theta^T\\mathbf{x})}}$$"
   ]
  },
  {
   "cell_type": "markdown",
   "metadata": {},
   "source": [
    "y = 1 Ако $ P(y = 1\\mid \\mathbf{x}) \\geq 0.5 $"
   ]
  },
  {
   "cell_type": "markdown",
   "metadata": {},
   "source": [
    "y = 0 Ако $ P(y = 1\\mid \\mathbf{x}) < 0.5 $"
   ]
  },
  {
   "cell_type": "markdown",
   "metadata": {},
   "source": [
    "### Прилагане на алгоритъма от нулата във вид на код\n",
    "\n",
    "#### 1. Използване на помощ от sklearn library"
   ]
  },
  {
   "cell_type": "code",
   "execution_count": 5,
   "metadata": {},
   "outputs": [],
   "source": [
    "#read csv file from folder\n",
    "data = pd.read_csv(\"archive/advertising.csv\")"
   ]
  },
  {
   "cell_type": "code",
   "execution_count": 6,
   "metadata": {},
   "outputs": [
    {
     "data": {
      "text/html": [
       "<div>\n",
       "<style scoped>\n",
       "    .dataframe tbody tr th:only-of-type {\n",
       "        vertical-align: middle;\n",
       "    }\n",
       "\n",
       "    .dataframe tbody tr th {\n",
       "        vertical-align: top;\n",
       "    }\n",
       "\n",
       "    .dataframe thead th {\n",
       "        text-align: right;\n",
       "    }\n",
       "</style>\n",
       "<table border=\"1\" class=\"dataframe\">\n",
       "  <thead>\n",
       "    <tr style=\"text-align: right;\">\n",
       "      <th></th>\n",
       "      <th>Daily Time Spent on Site</th>\n",
       "      <th>Age</th>\n",
       "      <th>Area Income</th>\n",
       "      <th>Daily Internet Usage</th>\n",
       "      <th>Ad Topic Line</th>\n",
       "      <th>City</th>\n",
       "      <th>Male</th>\n",
       "      <th>Country</th>\n",
       "      <th>Timestamp</th>\n",
       "      <th>Clicked on Ad</th>\n",
       "    </tr>\n",
       "  </thead>\n",
       "  <tbody>\n",
       "    <tr>\n",
       "      <th>0</th>\n",
       "      <td>68.95</td>\n",
       "      <td>35</td>\n",
       "      <td>61833.90</td>\n",
       "      <td>256.09</td>\n",
       "      <td>Cloned 5thgeneration orchestration</td>\n",
       "      <td>Wrightburgh</td>\n",
       "      <td>0</td>\n",
       "      <td>Tunisia</td>\n",
       "      <td>2016-03-27 00:53:11</td>\n",
       "      <td>0</td>\n",
       "    </tr>\n",
       "    <tr>\n",
       "      <th>1</th>\n",
       "      <td>80.23</td>\n",
       "      <td>31</td>\n",
       "      <td>68441.85</td>\n",
       "      <td>193.77</td>\n",
       "      <td>Monitored national standardization</td>\n",
       "      <td>West Jodi</td>\n",
       "      <td>1</td>\n",
       "      <td>Nauru</td>\n",
       "      <td>2016-04-04 01:39:02</td>\n",
       "      <td>0</td>\n",
       "    </tr>\n",
       "    <tr>\n",
       "      <th>2</th>\n",
       "      <td>69.47</td>\n",
       "      <td>26</td>\n",
       "      <td>59785.94</td>\n",
       "      <td>236.50</td>\n",
       "      <td>Organic bottom-line service-desk</td>\n",
       "      <td>Davidton</td>\n",
       "      <td>0</td>\n",
       "      <td>San Marino</td>\n",
       "      <td>2016-03-13 20:35:42</td>\n",
       "      <td>0</td>\n",
       "    </tr>\n",
       "    <tr>\n",
       "      <th>3</th>\n",
       "      <td>74.15</td>\n",
       "      <td>29</td>\n",
       "      <td>54806.18</td>\n",
       "      <td>245.89</td>\n",
       "      <td>Triple-buffered reciprocal time-frame</td>\n",
       "      <td>West Terrifurt</td>\n",
       "      <td>1</td>\n",
       "      <td>Italy</td>\n",
       "      <td>2016-01-10 02:31:19</td>\n",
       "      <td>0</td>\n",
       "    </tr>\n",
       "    <tr>\n",
       "      <th>4</th>\n",
       "      <td>68.37</td>\n",
       "      <td>35</td>\n",
       "      <td>73889.99</td>\n",
       "      <td>225.58</td>\n",
       "      <td>Robust logistical utilization</td>\n",
       "      <td>South Manuel</td>\n",
       "      <td>0</td>\n",
       "      <td>Iceland</td>\n",
       "      <td>2016-06-03 03:36:18</td>\n",
       "      <td>0</td>\n",
       "    </tr>\n",
       "    <tr>\n",
       "      <th>...</th>\n",
       "      <td>...</td>\n",
       "      <td>...</td>\n",
       "      <td>...</td>\n",
       "      <td>...</td>\n",
       "      <td>...</td>\n",
       "      <td>...</td>\n",
       "      <td>...</td>\n",
       "      <td>...</td>\n",
       "      <td>...</td>\n",
       "      <td>...</td>\n",
       "    </tr>\n",
       "    <tr>\n",
       "      <th>995</th>\n",
       "      <td>72.97</td>\n",
       "      <td>30</td>\n",
       "      <td>71384.57</td>\n",
       "      <td>208.58</td>\n",
       "      <td>Fundamental modular algorithm</td>\n",
       "      <td>Duffystad</td>\n",
       "      <td>1</td>\n",
       "      <td>Lebanon</td>\n",
       "      <td>2016-02-11 21:49:00</td>\n",
       "      <td>1</td>\n",
       "    </tr>\n",
       "    <tr>\n",
       "      <th>996</th>\n",
       "      <td>51.30</td>\n",
       "      <td>45</td>\n",
       "      <td>67782.17</td>\n",
       "      <td>134.42</td>\n",
       "      <td>Grass-roots cohesive monitoring</td>\n",
       "      <td>New Darlene</td>\n",
       "      <td>1</td>\n",
       "      <td>Bosnia and Herzegovina</td>\n",
       "      <td>2016-04-22 02:07:01</td>\n",
       "      <td>1</td>\n",
       "    </tr>\n",
       "    <tr>\n",
       "      <th>997</th>\n",
       "      <td>51.63</td>\n",
       "      <td>51</td>\n",
       "      <td>42415.72</td>\n",
       "      <td>120.37</td>\n",
       "      <td>Expanded intangible solution</td>\n",
       "      <td>South Jessica</td>\n",
       "      <td>1</td>\n",
       "      <td>Mongolia</td>\n",
       "      <td>2016-02-01 17:24:57</td>\n",
       "      <td>1</td>\n",
       "    </tr>\n",
       "    <tr>\n",
       "      <th>998</th>\n",
       "      <td>55.55</td>\n",
       "      <td>19</td>\n",
       "      <td>41920.79</td>\n",
       "      <td>187.95</td>\n",
       "      <td>Proactive bandwidth-monitored policy</td>\n",
       "      <td>West Steven</td>\n",
       "      <td>0</td>\n",
       "      <td>Guatemala</td>\n",
       "      <td>2016-03-24 02:35:54</td>\n",
       "      <td>0</td>\n",
       "    </tr>\n",
       "    <tr>\n",
       "      <th>999</th>\n",
       "      <td>45.01</td>\n",
       "      <td>26</td>\n",
       "      <td>29875.80</td>\n",
       "      <td>178.35</td>\n",
       "      <td>Virtual 5thgeneration emulation</td>\n",
       "      <td>Ronniemouth</td>\n",
       "      <td>0</td>\n",
       "      <td>Brazil</td>\n",
       "      <td>2016-06-03 21:43:21</td>\n",
       "      <td>1</td>\n",
       "    </tr>\n",
       "  </tbody>\n",
       "</table>\n",
       "<p>1000 rows × 10 columns</p>\n",
       "</div>"
      ],
      "text/plain": [
       "     Daily Time Spent on Site  Age  Area Income  Daily Internet Usage  \\\n",
       "0                       68.95   35     61833.90                256.09   \n",
       "1                       80.23   31     68441.85                193.77   \n",
       "2                       69.47   26     59785.94                236.50   \n",
       "3                       74.15   29     54806.18                245.89   \n",
       "4                       68.37   35     73889.99                225.58   \n",
       "..                        ...  ...          ...                   ...   \n",
       "995                     72.97   30     71384.57                208.58   \n",
       "996                     51.30   45     67782.17                134.42   \n",
       "997                     51.63   51     42415.72                120.37   \n",
       "998                     55.55   19     41920.79                187.95   \n",
       "999                     45.01   26     29875.80                178.35   \n",
       "\n",
       "                             Ad Topic Line            City  Male  \\\n",
       "0       Cloned 5thgeneration orchestration     Wrightburgh     0   \n",
       "1       Monitored national standardization       West Jodi     1   \n",
       "2         Organic bottom-line service-desk        Davidton     0   \n",
       "3    Triple-buffered reciprocal time-frame  West Terrifurt     1   \n",
       "4            Robust logistical utilization    South Manuel     0   \n",
       "..                                     ...             ...   ...   \n",
       "995          Fundamental modular algorithm       Duffystad     1   \n",
       "996        Grass-roots cohesive monitoring     New Darlene     1   \n",
       "997           Expanded intangible solution   South Jessica     1   \n",
       "998   Proactive bandwidth-monitored policy     West Steven     0   \n",
       "999        Virtual 5thgeneration emulation     Ronniemouth     0   \n",
       "\n",
       "                    Country            Timestamp  Clicked on Ad  \n",
       "0                   Tunisia  2016-03-27 00:53:11              0  \n",
       "1                     Nauru  2016-04-04 01:39:02              0  \n",
       "2                San Marino  2016-03-13 20:35:42              0  \n",
       "3                     Italy  2016-01-10 02:31:19              0  \n",
       "4                   Iceland  2016-06-03 03:36:18              0  \n",
       "..                      ...                  ...            ...  \n",
       "995                 Lebanon  2016-02-11 21:49:00              1  \n",
       "996  Bosnia and Herzegovina  2016-04-22 02:07:01              1  \n",
       "997                Mongolia  2016-02-01 17:24:57              1  \n",
       "998               Guatemala  2016-03-24 02:35:54              0  \n",
       "999                  Brazil  2016-06-03 21:43:21              1  \n",
       "\n",
       "[1000 rows x 10 columns]"
      ]
     },
     "execution_count": 6,
     "metadata": {},
     "output_type": "execute_result"
    }
   ],
   "source": [
    "data"
   ]
  },
  {
   "cell_type": "code",
   "execution_count": 7,
   "metadata": {},
   "outputs": [],
   "source": [
    "data_clicked_on_add = data[data[\"Clicked on Ad\"] == 1]\n",
    "data_skipped_on_add = data[data[\"Clicked on Ad\"] == 0]"
   ]
  },
  {
   "cell_type": "code",
   "execution_count": 8,
   "metadata": {},
   "outputs": [
    {
     "data": {
      "image/png": "[encoded data removed]",
      "text/plain": [
       "<Figure size 432x288 with 1 Axes>"
      ]
     },
     "metadata": {
      "needs_background": "light"
     },
     "output_type": "display_data"
    }
   ],
   "source": [
    "plt.scatter(data_clicked_on_add['Age'], data_clicked_on_add[\"Daily Internet Usage\"], label='Clicked Ad')\n",
    "plt.scatter(data_skipped_on_add['Age'], data_skipped_on_add[\"Daily Internet Usage\"], label='Skipped Ad')\n",
    "\n",
    "plt.legend()\n",
    "plt.xlabel(\"People's age\")\n",
    "plt.ylabel(\"Daily usage in MB\")\n",
    "plt.show()"
   ]
  },
  {
   "cell_type": "markdown",
   "metadata": {},
   "source": [
    "От таблицата виждаме, че по-старите хора, който използват по-рядко интернет са сколнни да разглеждата повече реклами. Ще се опитам да създам логистичен модел, който да определя, дали даден индивид е склонен да посещава реклами, по подадени години и часове прекарани в \"интернет\" на ден."
   ]
  },
  {
   "cell_type": "code",
   "execution_count": 9,
   "metadata": {},
   "outputs": [],
   "source": [
    "logistic_model = LogisticRegression()"
   ]
  },
  {
   "cell_type": "code",
   "execution_count": 10,
   "metadata": {},
   "outputs": [],
   "source": [
    "X = pd.DataFrame()\n",
    "X['Age'] = data['Age']\n",
    "X['Internet Usege'] = data['Daily Internet Usage']\n",
    "X['DTSS'] = data['Daily Time Spent on Site']"
   ]
  },
  {
   "cell_type": "code",
   "execution_count": 11,
   "metadata": {},
   "outputs": [
    {
     "data": {
      "text/html": [
       "<div>\n",
       "<style scoped>\n",
       "    .dataframe tbody tr th:only-of-type {\n",
       "        vertical-align: middle;\n",
       "    }\n",
       "\n",
       "    .dataframe tbody tr th {\n",
       "        vertical-align: top;\n",
       "    }\n",
       "\n",
       "    .dataframe thead th {\n",
       "        text-align: right;\n",
       "    }\n",
       "</style>\n",
       "<table border=\"1\" class=\"dataframe\">\n",
       "  <thead>\n",
       "    <tr style=\"text-align: right;\">\n",
       "      <th></th>\n",
       "      <th>Age</th>\n",
       "      <th>Internet Usege</th>\n",
       "      <th>DTSS</th>\n",
       "    </tr>\n",
       "  </thead>\n",
       "  <tbody>\n",
       "    <tr>\n",
       "      <th>0</th>\n",
       "      <td>35</td>\n",
       "      <td>256.09</td>\n",
       "      <td>68.95</td>\n",
       "    </tr>\n",
       "    <tr>\n",
       "      <th>1</th>\n",
       "      <td>31</td>\n",
       "      <td>193.77</td>\n",
       "      <td>80.23</td>\n",
       "    </tr>\n",
       "    <tr>\n",
       "      <th>2</th>\n",
       "      <td>26</td>\n",
       "      <td>236.50</td>\n",
       "      <td>69.47</td>\n",
       "    </tr>\n",
       "    <tr>\n",
       "      <th>3</th>\n",
       "      <td>29</td>\n",
       "      <td>245.89</td>\n",
       "      <td>74.15</td>\n",
       "    </tr>\n",
       "    <tr>\n",
       "      <th>4</th>\n",
       "      <td>35</td>\n",
       "      <td>225.58</td>\n",
       "      <td>68.37</td>\n",
       "    </tr>\n",
       "    <tr>\n",
       "      <th>...</th>\n",
       "      <td>...</td>\n",
       "      <td>...</td>\n",
       "      <td>...</td>\n",
       "    </tr>\n",
       "    <tr>\n",
       "      <th>995</th>\n",
       "      <td>30</td>\n",
       "      <td>208.58</td>\n",
       "      <td>72.97</td>\n",
       "    </tr>\n",
       "    <tr>\n",
       "      <th>996</th>\n",
       "      <td>45</td>\n",
       "      <td>134.42</td>\n",
       "      <td>51.30</td>\n",
       "    </tr>\n",
       "    <tr>\n",
       "      <th>997</th>\n",
       "      <td>51</td>\n",
       "      <td>120.37</td>\n",
       "      <td>51.63</td>\n",
       "    </tr>\n",
       "    <tr>\n",
       "      <th>998</th>\n",
       "      <td>19</td>\n",
       "      <td>187.95</td>\n",
       "      <td>55.55</td>\n",
       "    </tr>\n",
       "    <tr>\n",
       "      <th>999</th>\n",
       "      <td>26</td>\n",
       "      <td>178.35</td>\n",
       "      <td>45.01</td>\n",
       "    </tr>\n",
       "  </tbody>\n",
       "</table>\n",
       "<p>1000 rows × 3 columns</p>\n",
       "</div>"
      ],
      "text/plain": [
       "     Age  Internet Usege   DTSS\n",
       "0     35          256.09  68.95\n",
       "1     31          193.77  80.23\n",
       "2     26          236.50  69.47\n",
       "3     29          245.89  74.15\n",
       "4     35          225.58  68.37\n",
       "..   ...             ...    ...\n",
       "995   30          208.58  72.97\n",
       "996   45          134.42  51.30\n",
       "997   51          120.37  51.63\n",
       "998   19          187.95  55.55\n",
       "999   26          178.35  45.01\n",
       "\n",
       "[1000 rows x 3 columns]"
      ]
     },
     "execution_count": 11,
     "metadata": {},
     "output_type": "execute_result"
    }
   ],
   "source": [
    "X"
   ]
  },
  {
   "cell_type": "code",
   "execution_count": 12,
   "metadata": {},
   "outputs": [],
   "source": [
    "x_train, x_test, y_train, y_test = train_test_split(X, data['Clicked on Ad'], test_size=0.15, random_state=0)"
   ]
  },
  {
   "cell_type": "code",
   "execution_count": 13,
   "metadata": {},
   "outputs": [
    {
     "data": {
      "text/plain": [
       "LogisticRegression()"
      ]
     },
     "execution_count": 13,
     "metadata": {},
     "output_type": "execute_result"
    }
   ],
   "source": [
    "logistic_model.fit(x_train, y_train)"
   ]
  },
  {
   "cell_type": "code",
   "execution_count": 14,
   "metadata": {},
   "outputs": [],
   "source": [
    "y_predicted = logistic_model.predict(x_test)"
   ]
  },
  {
   "cell_type": "code",
   "execution_count": 15,
   "metadata": {},
   "outputs": [
    {
     "data": {
      "text/plain": [
       "array([0, 0, 0, 1, 0, 1, 1, 1, 0, 0, 0, 0, 1, 0, 0, 0, 1, 0, 1, 0, 0, 0,\n",
       "       0, 0, 1, 0, 1, 0, 0, 0, 0, 1, 0, 1, 0, 0, 0, 0, 0, 0, 0, 1, 1, 0,\n",
       "       1, 0, 0, 1, 0, 1, 0, 0, 1, 0, 0, 1, 0, 1, 1, 1, 0, 0, 1, 1, 1, 1,\n",
       "       0, 1, 0, 1, 1, 0, 1, 0, 0, 0, 1, 0, 1, 0, 1, 1, 0, 1, 0, 1, 1, 0,\n",
       "       1, 0, 0, 1, 1, 0, 1, 1, 1, 1, 0, 0, 1, 0, 0, 1, 0, 1, 0, 1, 0, 0,\n",
       "       1, 1, 0, 1, 0, 0, 1, 0, 0, 1, 0, 0, 0, 0, 0, 0, 0, 0, 0, 1, 0, 0,\n",
       "       0, 1, 0, 0, 0, 0, 0, 1, 0, 1, 1, 1, 0, 1, 1, 0, 1, 1])"
      ]
     },
     "execution_count": 15,
     "metadata": {},
     "output_type": "execute_result"
    }
   ],
   "source": [
    "y_predicted"
   ]
  },
  {
   "cell_type": "code",
   "execution_count": 16,
   "metadata": {},
   "outputs": [
    {
     "name": "stdout",
     "output_type": "stream",
     "text": [
      "              precision    recall  f1-score   support\n",
      "\n",
      "           0       0.92      0.99      0.95        82\n",
      "           1       0.98      0.90      0.94        68\n",
      "\n",
      "    accuracy                           0.95       150\n",
      "   macro avg       0.95      0.94      0.95       150\n",
      "weighted avg       0.95      0.95      0.95       150\n",
      "\n"
     ]
    }
   ],
   "source": [
    "print(classification_report(y_test, y_predicted))"
   ]
  },
  {
   "cell_type": "code",
   "execution_count": 17,
   "metadata": {},
   "outputs": [
    {
     "data": {
      "text/plain": [
       "array([[81,  1],\n",
       "       [ 7, 61]])"
      ]
     },
     "execution_count": 17,
     "metadata": {},
     "output_type": "execute_result"
    }
   ],
   "source": [
    "confusion_matrix(y_test, y_predicted)"
   ]
  },
  {
   "cell_type": "code",
   "execution_count": null,
   "metadata": {},
   "outputs": [],
   "source": []
  },
  {
   "cell_type": "code",
   "execution_count": 18,
   "metadata": {},
   "outputs": [],
   "source": [
    "class myLogisticRegression:\n",
    "    def __init__(self, learning_rate, iterations):\n",
    "        self.learning_rate = learning_rate\n",
    "        self.iterations = iterations\n",
    "        self.weights = None\n",
    "        \n",
    "    def sigmoid_function(self, z):\n",
    "        return 1.0 / (1.0 + np.exp(-z))\n",
    "    \n",
    "    def fit(self, X, y):\n",
    "        \n",
    "        X = np.array(X)\n",
    "        y = np.array(y)\n",
    "        \n",
    "        # Запълваме матрицата от стойности със нули\n",
    "        self.weights = np.zeros(X.shape[1] + 1)\n",
    "        \n",
    "        cost = list()\n",
    "        \n",
    "        # Прилагаме алгоритъма Gradient Descent\n",
    "        for _ in range(self.iterations):\n",
    "            y_predicted = self.set_bias_in_sigmoid_function(X)\n",
    "            d = np.dot(X.T, (y_predicted - y))\n",
    "            self.weights[1:] -= (1 / X.shape[0]) * self.learning_rate * d\n",
    "            self.weights[0] -= (1 / X.shape[0]) * self.learning_rate * (y_predicted - y).sum()\n",
    "\n",
    "    def set_bias_in_sigmoid_function(self, X):\n",
    "        z = np.dot(X, self.weights[1:]) + self.weights[0]\n",
    "        return self.sigmoid_function(z)\n",
    "    \n",
    "#TODO Finalize NLL function\n",
    "    #def negative_log_likelihood(self, y_predicted, y):\n",
    "        #if y == 0:\n",
    "            #logit = - np.dot((1 - y), np.log(1 - y_predicted))\n",
    "        #if y == 1:\n",
    "            #logit = -np.dot(y, np.log(y_predicted))\n",
    "        #return logit\n",
    "    \n",
    "    def predict(self, X):\n",
    "        S = self.set_bias_in_sigmoid_function(X)\n",
    "        return [1 if s >= 0.5 else 0 for s in S]\n",
    "\n",
    "    def model_accuracy(self, y_test, y_predicted):\n",
    "        return sum([1 if i==j else 0 for i, j in zip(y_test, y_predicted)]) / len(y_test)\n",
    "    \n",
    "    def confusion_matrix(self, y_test, y_predicted):\n",
    "        result = np.array([[0, 0], [0, 0]])\n",
    "        for i, j in zip(y_test, y_predicted):\n",
    "            if j == i:\n",
    "                if j == 1:\n",
    "                    result[0][0] += 1 \n",
    "                else:\n",
    "                    result[1][1] += 1\n",
    "            else:\n",
    "                if j == 1:\n",
    "                    result[1][0] += 1\n",
    "                else:\n",
    "                    result[0][1] += 1\n",
    "        return result\n",
    "                    \n",
    "    "
   ]
  },
  {
   "cell_type": "code",
   "execution_count": 19,
   "metadata": {},
   "outputs": [],
   "source": [
    "logistic_regression = myLogisticRegression(0.02, 1500)"
   ]
  },
  {
   "cell_type": "code",
   "execution_count": 20,
   "metadata": {},
   "outputs": [],
   "source": [
    "logistic_regression.fit(x_train, y_train)"
   ]
  },
  {
   "cell_type": "code",
   "execution_count": 21,
   "metadata": {},
   "outputs": [],
   "source": [
    "new_y_predicted = logistic_regression.predict(x_test)"
   ]
  },
  {
   "cell_type": "code",
   "execution_count": 22,
   "metadata": {},
   "outputs": [
    {
     "name": "stdout",
     "output_type": "stream",
     "text": [
      "0.86\n"
     ]
    }
   ],
   "source": [
    "print(logistic_regression.model_accuracy(y_test, new_y_predicted))"
   ]
  },
  {
   "cell_type": "code",
   "execution_count": 23,
   "metadata": {},
   "outputs": [
    {
     "data": {
      "text/plain": [
       "array([[65,  3],\n",
       "       [18, 64]])"
      ]
     },
     "execution_count": 23,
     "metadata": {},
     "output_type": "execute_result"
    }
   ],
   "source": [
    "logistic_regression.confusion_matrix(y_test, new_y_predicted)"
   ]
  },
  {
   "cell_type": "markdown",
   "metadata": {},
   "source": [
    "Данните, които съм взел са от:\n",
    "[Dataset](https://www.kaggle.com/fayomi/advertising)\n",
    "\n",
    "to be continued..."
   ]
  },
  {
   "cell_type": "markdown",
   "metadata": {},
   "source": [
    "Линкове, които използвах:\n",
    "\n",
    "[Logistic regression](https://ml-cheatsheet.readthedocs.io/en/latest/logistic_regression.html)\n",
    "\n",
    "[Natural logarithm](https://en.wikipedia.org/wiki/Natural_logarithm)\n",
    "\n",
    "[What is machine learning](https://www.geeksforgeeks.org/ml-machine-learning/)\n",
    "\n",
    "[What is machine learning](https://onlinestats.canr.udel.edu/machine-learning-vs-statistics/)\n",
    "\n",
    "[What is ML]([links](https://www.geeksforgeeks.org/ml-machine-learning/))\n",
    "\n",
    "[Introduction to statistical learning](https://people.unica.it/claudioconversano/files/2015/02/ISLR_print4.pdf)\n",
    "\n",
    "[Linear regression](https://ml-cheatsheet.readthedocs.io/en/latest/linear_regression.html#multiple-linear-regression-predict)\n",
    "\n",
    "[Elements of statistical learning](https://github.com/tpn/pdfs/blob/master/The%20Elements%20of%20Statistical%20Learning%20-%20Data%20Mining,%20Inference%20and%20Prediction%20-%202nd%20Edition%20(ESLII_print4).pdf)\n",
    "\n",
    "[Logistic regression](https://towardsai.net/p/machine-learning/logistic-regression-with-mathematics)\n",
    "\n",
    "[Много добър индиец:)](https://www.youtube.com/watch?v=uFfsSgQgerw)\n",
    "\n",
    "[Cost function](https://www.bobbywlindsey.com/2019/11/06/understanding-maximum-likelihood-estimation/)\n",
    "\n",
    "[logs and odds explanation](https://www.youtube.com/watch?v=ARfXDSkQf1Y)\n",
    "\n",
    "[Very usefull video about logistic regression](https://www.youtube.com/watch?v=YMJtsYIp4kg)\n",
    "\n",
    "[Logistic regression Math Explanation](https://web.stanford.edu/class/archive/cs/cs109/cs109.1178/lectureHandouts/220-logistic-regression.pdf)"
   ]
  }
 ],
 "metadata": {
  "kernelspec": {
   "display_name": "Python 3",
   "language": "python",
   "name": "python3"
  },
  "language_info": {
   "codemirror_mode": {
    "name": "ipython",
    "version": 3
   },
   "file_extension": ".py",
   "mimetype": "text/x-python",
   "name": "python",
   "nbconvert_exporter": "python",
   "pygments_lexer": "ipython3",
   "version": "3.8.5"
  }
 },
 "nbformat": 4,
 "nbformat_minor": 4
}
