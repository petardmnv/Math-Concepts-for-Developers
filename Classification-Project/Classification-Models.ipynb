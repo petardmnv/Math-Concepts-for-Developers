{
 "cells": [
  {
   "cell_type": "markdown",
   "metadata": {},
   "source": [
    "# Classification - Класификация\n"
   ]
  },
  {
   "cell_type": "markdown",
   "metadata": {},
   "source": [
    "## Source of knowledge is this book - [book](https://people.unica.it/claudioconversano/files/2015/02/ISLR_print4.pdf) "
   ]
  },
  {
   "cell_type": "markdown",
   "metadata": {},
   "source": [
    "First S vs UnS Learning - 2.1.4 page 26\n",
    "\n",
    "Regression vs Classification Problems - 2.1.5 page 28"
   ]
  },
  {
   "cell_type": "markdown",
   "metadata": {},
   "source": [
    "Regression - 3.1 to 3.4 page 59 - 102"
   ]
  },
  {
   "cell_type": "markdown",
   "metadata": {},
   "source": [
    "Classification - 4.1 to 4.7 page 127 - 168"
   ]
  },
  {
   "cell_type": "markdown",
   "metadata": {},
   "source": []
  },
  {
   "cell_type": "markdown",
   "metadata": {},
   "source": []
  },
  {
   "cell_type": "markdown",
   "metadata": {},
   "source": [
    "В предишните упражнения разгледахме модел на регресия. Друг вид широко използвани модели е класификацията. Регресията извежда непрекъсната стойност, докато класификацията извежда един от няколко предварително дефинирани класа. По най-простия начин класовете са само два. Например, ако искаме да открием дали на изображение има котка, можем да имаме два класа: \"котка\" и \"не-котка\".\n",
    "\n",
    "Разгледайте проблема с класификацията. Внедрете и документирайте един алгоритъм. Приложете го към някои реални данни. Можете да използвате следния контролен списък:\n",
    "\n",
    "Забележка: Ако вашата статия е за алгоритъма, помислете дали да не я напишете от нулата, а не да я използвате повторно от библиотека.\n",
    "\n",
    "1. Какво е контролирано обучение?\n",
    "2. Какво правят наблюдаваните модели на обучение?\n",
    "3. Какво е регресия?\n",
    "4. Какво е класификация?\n",
    "5. Какви видове проблеми решава директно класификацията? \n",
    "6. Какви видове проблеми могат да бъдат сведени до класификация?\n",
    "7. Каква е разликата между двукласната и многокласната класификация? Started\n",
    "8. Изследвайте един алгоритъм за класификация, напр. логистична регресия.\n",
    "9. Ясно формулирайте проблема Избройте всички предположения на функцията за моделиране \n",
    "    1. Опишете процеса: разстояния, функция за грешка, обща загуба, градиентно спускане и др .; според нуждите\n",
    "10. Прилагане на алгоритъма от нулата:\n",
    "    1. Изберете или генерирайте малък набор от данни, подходящ за класификация. Стартирайте своя алгоритъм като отстраняване на грешки при проверка на здравословното състояние и решаване на всички проблеми. Матрицата за объркване ли е? Какви показатели се използват за оценяване на класификатор? Точност, прецизност, извикване, други ROC крива, интерпретация \n",
    "    2. Изберете истински набор от данни Изследвайте го, за да се запознаете с информацията, която съдържа \n",
    "    3. Почистете данните, ако трябва да го направите \n",
    "    4. Извършете класификация \n",
    "    5. Оценете своя класификационен модел Използвайте своя класификатор, за да предскажете разделянето на данните в комплект за обучение и тестване По желание изпълнете кръстосано валидиране Сравнете изпълнението си с друго, напр scikit-learn. Те трябва да дават едни и същи (или много сходни) резултати. Комуникирайте резултатите в набора от данни. \n",
    "    4. По желание публикувайте модела си в Интернет като уеб API"
   ]
  },
  {
   "cell_type": "markdown",
   "metadata": {},
   "source": [
    "In the previous exercises, we looked at a regression model. Another type of widely used models is classification. Regression outputs a continuous value while classification outputs one of several pre-defined classes. In the most simple way, the classes are only two. For example, if we want to detect whether there's a cat on an image, we can have two classes: \"cat\" and \"non-cat\".\n",
    "\n",
    "Explore the problem of classification. Implement and document one algorithm. Apply it to some real-world data. You can use the following checklist:\n",
    "\n",
    "Note: If your paper is about the algorithm, consider writing it from scratch, not reusing it from a library.\n",
    "\n",
    "What is supervised learning? What do supervised learning models do?\n",
    "What is regression? What is classification?\n",
    "What types of problems does classification solve directly?\n",
    "What types of problems can be reduced to classification?\n",
    "What's the difference between two-class and multi-class classification?\n",
    "Explore one algorithm for classification, e.g. logistic regression.\n",
    "State the problem clearly\n",
    "List all sssumptions of the modelling function\n",
    "Describe the process: distances, error function, total loss, gradient descent, etc.; as needed\n",
    "Implement the algorithm from scratch\n",
    "Select or generate a small dataset, suitable for classification. Run your algorithm as a sanity check\n",
    "Debug and solve any problems\n",
    "Waht is a confusion matrix?\n",
    "What metrics are used to score a classifier?\n",
    "Accuracy, Precision, Recall, others\n",
    "ROC curve, interpretation\n",
    "Select a real dataset\n",
    "Explore it to get acquainted with what information it contains\n",
    "Clean up the data if you need to do so\n",
    "Perform classification\n",
    "Score your classification model\n",
    "Use your classifier to predict\n",
    "Split the data into training and testing set\n",
    "Optionally, perform cross-validation\n",
    "Compare your implementation to another one, e.g. scikit-learn. They should give the same (or very similar) results\n",
    "Communicate the results on your dataset\n",
    "Optionally, publish your model on the Internet as a Web API"
   ]
  },
  {
   "cell_type": "markdown",
   "metadata": {},
   "source": [
    "this may be bullshit\n"
   ]
  },
  {
   "cell_type": "markdown",
   "metadata": {},
   "source": [
    "Information gotten from - [link](https://www.statlect.com/fundamentals-of-statistics/classification-models).\n",
    "\n",
    "### Определение\n",
    "Класификационните модели принадлежат към класа на условните модели, т.е. вероятностни модели, които определят условните разпределения на вероятностите на изходните променливи, дадени на входовете. Особеността на класификационните модели е, че при тези модели изходът има дискретно разпределение на вероятностите (за разлика от регресионните модели, където изходната променлива е непрекъсната)."
   ]
  },
  {
   "cell_type": "markdown",
   "metadata": {},
   "source": [
    "### Видове класификационни модели\n",
    "Има два различни вида на класификационните модели:\n",
    "\n",
    "    1.Бинарни класификационни модели, където изходната променлива има разпределение на Бернули, което зависи от входовете.\n",
    "\n",
    "    2. Мултиномиални класификационни модели, където изходът има Категориино разпределение или (разпределение на Multinoulli), което зависи от входовете.\n",
    "\n",
    "Разпределението на Multinoulli е по-общо. Може да се използва за моделиране на изходи, които могат да приемат две или повече стойности. Ако изходната променлива може да приеме $ J $ различни стойности, тогава тя се представя като $ 1 imes J $ Multinoulli произволен вектор, тоест случаен вектор, чиито реализации имат всички записи, равни на 0, с изключение на записа, съответстващ на реализирания изход стойност, която е равна на 1 $. $\n",
    "\n",
    "Например, ако изходната променлива е животно или не(котка или не-котка), тогава тя може да бъде представена като случайна променлива на Бернули, която приема стойности 0 или 1 взависимост от подадения вход. Както с \"метода\" на Бернули, така и задачата може да се реши с категориино разпределение, представено като случаен вектор от $ 1 \\times 2 $ Multinoulli, който приема стойности:"
   ]
  },
  {
   "cell_type": "markdown",
   "metadata": {},
   "source": [
    "    1. Ако подадем на входните данни котка: \n",
    "$$ [1 \\space 0] $$ \n",
    "\n",
    "    2. Ако подадем на входните данни не-котка: \n",
    "$$ [0 \\space1] $$"
   ]
  },
  {
   "cell_type": "code",
   "execution_count": null,
   "metadata": {},
   "outputs": [],
   "source": []
  },
  {
   "cell_type": "code",
   "execution_count": null,
   "metadata": {},
   "outputs": [],
   "source": []
  },
  {
   "cell_type": "code",
   "execution_count": null,
   "metadata": {},
   "outputs": [],
   "source": []
  },
  {
   "cell_type": "markdown",
   "metadata": {},
   "source": []
  },
  {
   "cell_type": "code",
   "execution_count": null,
   "metadata": {},
   "outputs": [],
   "source": []
  },
  {
   "cell_type": "code",
   "execution_count": null,
   "metadata": {},
   "outputs": [],
   "source": []
  },
  {
   "cell_type": "code",
   "execution_count": null,
   "metadata": {},
   "outputs": [],
   "source": []
  },
  {
   "cell_type": "code",
   "execution_count": null,
   "metadata": {},
   "outputs": [],
   "source": []
  },
  {
   "cell_type": "code",
   "execution_count": null,
   "metadata": {},
   "outputs": [],
   "source": []
  }
 ],
 "metadata": {
  "kernelspec": {
   "display_name": "Python 3",
   "language": "python",
   "name": "python3"
  },
  "language_info": {
   "codemirror_mode": {
    "name": "ipython",
    "version": 3
   },
   "file_extension": ".py",
   "mimetype": "text/x-python",
   "name": "python",
   "nbconvert_exporter": "python",
   "pygments_lexer": "ipython3",
   "version": "3.8.5"
  }
 },
 "nbformat": 4,
 "nbformat_minor": 4
}
